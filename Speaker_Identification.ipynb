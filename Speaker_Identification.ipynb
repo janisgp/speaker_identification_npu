{
 "cells": [
  {
   "cell_type": "markdown",
   "metadata": {},
   "source": [
    "# Imports"
   ]
  },
  {
   "cell_type": "code",
   "execution_count": 1,
   "metadata": {},
   "outputs": [
    {
     "name": "stderr",
     "output_type": "stream",
     "text": [
      "/home/janis/anaconda3/envs/tf13env/lib/python3.6/site-packages/h5py/__init__.py:36: FutureWarning: Conversion of the second argument of issubdtype from `float` to `np.floating` is deprecated. In future, it will be treated as `np.float64 == np.dtype(float).type`.\n",
      "  from ._conv import register_converters as _register_converters\n",
      "Using TensorFlow backend.\n"
     ]
    }
   ],
   "source": [
    "import configparser\n",
    "import numpy as np\n",
    "import tensorflow as tf\n",
    "from established.utils.helper_functions import get_all_file_names\n",
    "from established.utils.data_loader import data_generator_classification, data_generator_identification\n",
    "from established.utils.data_loader import data_loader_model_wrapper_classification\n",
    "from established.utils.data_loader import data_loader_model_wrapper_identification\n",
    "from established.model.losses import softmax_loss, triplet_loss_tf\n",
    "from established.model.models import get_simple_LSTM_encoder, get_simple_LSTM_classification\n",
    "from established.utils.trainer import BaseTrainer"
   ]
  },
  {
   "cell_type": "code",
   "execution_count": 11,
   "metadata": {},
   "outputs": [],
   "source": [
    "# If true: train classification, else: identification\n",
    "classification = False"
   ]
  },
  {
   "cell_type": "markdown",
   "metadata": {},
   "source": [
    "# Preparation"
   ]
  },
  {
   "cell_type": "code",
   "execution_count": 12,
   "metadata": {},
   "outputs": [
    {
     "data": {
      "text/plain": [
       "['established/config.ini']"
      ]
     },
     "execution_count": 12,
     "metadata": {},
     "output_type": "execute_result"
    }
   ],
   "source": [
    "# parse config\n",
    "config_file = 'established/config.ini'\n",
    "config = configparser.ConfigParser()\n",
    "config.read(config_file)"
   ]
  },
  {
   "cell_type": "code",
   "execution_count": 13,
   "metadata": {},
   "outputs": [],
   "source": [
    "# load paths of data files\n",
    "if classification:\n",
    "    train_files, val_files = get_all_file_names(config['DATA']['data_root'])\n",
    "else:\n",
    "    train_files, val_files = get_all_file_names(config['DATA']['data_root'])"
   ]
  },
  {
   "cell_type": "code",
   "execution_count": 14,
   "metadata": {},
   "outputs": [],
   "source": [
    "# define parameters\n",
    "batch_size = int(config['TRAINING']['batch_size'])\n",
    "encoding_dim = int(config['TRAINING']['encoding_dim'])\n",
    "num_classes = int(config['DATA']['num_classes'])\n",
    "time_steps = int(config['DATA']['time_steps'])\n",
    "features_dim = int(config['DATA']['features_dim'])\n",
    "samples_per_file = np.load(train_files[0][0]).shape[0]\n",
    "steps_per_epoch_train = int(len(train_files)*samples_per_file/batch_size)\n",
    "steps_per_epoch_val = int(len(val_files)*samples_per_file/batch_size)"
   ]
  },
  {
   "cell_type": "code",
   "execution_count": 15,
   "metadata": {},
   "outputs": [],
   "source": [
    "if classification:\n",
    "    # get data loader\n",
    "    train_gen = data_generator_classification(train_files, batch_size, steps_per_epoch_train, num_classes,\n",
    "                                                mode='train', model='LSTM')\n",
    "    val_gen = data_generator_classification(val_files, batch_size, steps_per_epoch_val, num_classes, \n",
    "                                                mode='val', model='LSTM')\n",
    "\n",
    "    # data loader wrapper -> reshape inputs, add state initialzation and pad time and dimension to \n",
    "    # multiple of 16\n",
    "    train_gen_wrap = data_loader_model_wrapper_classification(train_gen, [batch_size, encoding_dim])\n",
    "    val_gen_wrap = data_loader_model_wrapper_classification(train_gen, [batch_size, encoding_dim])\n",
    "else:\n",
    "    # get data loader\n",
    "    train_gen = data_generator_identification(train_files, batch_size, steps_per_epoch_train, mode='train', model='LSTM')\n",
    "    val_gen = data_generator_identification(val_files, batch_size, steps_per_epoch_val, mode='val', model='LSTM')\n",
    "\n",
    "    # data loader wrapper -> reshape inputs, add state initialzation and pad time and dimension to \n",
    "    # multiple of 16\n",
    "    train_gen_wrap = data_loader_model_wrapper_identification(train_gen, [3*batch_size, encoding_dim], encoding_dim)\n",
    "    val_gen_wrap = data_loader_model_wrapper_identification(train_gen, [3*batch_size, encoding_dim], encoding_dim)"
   ]
  },
  {
   "cell_type": "markdown",
   "metadata": {},
   "source": [
    "# Initialize model"
   ]
  },
  {
   "cell_type": "code",
   "execution_count": 16,
   "metadata": {},
   "outputs": [],
   "source": [
    "# reset default graph in case graph has already been defined\n",
    "tf.reset_default_graph()\n",
    "\n",
    "if classification:\n",
    "    input_dict, output_dict, label_dict = get_simple_LSTM_classification(encoding_dim, time_steps, \n",
    "                                                                         features_dim, num_classes)\n",
    "else:\n",
    "    input_dict, output_dict, label_dict = get_simple_LSTM_encoder(encoding_dim, time_steps, features_dim)"
   ]
  },
  {
   "cell_type": "code",
   "execution_count": 17,
   "metadata": {},
   "outputs": [],
   "source": [
    "# Initialize trainer and losses\n",
    "\n",
    "if classification:\n",
    "    losses_dict = {\n",
    "        'logits': softmax_loss\n",
    "    }\n",
    "else:\n",
    "    losses_dict = {\n",
    "        'encoding': triplet_loss_tf\n",
    "    }\n",
    "\n",
    "trainer = BaseTrainer(input_dict, output_dict, label_dict, losses_dict, train_gen_wrap, val_gen_wrap, \n",
    "                     steps_per_epoch_train, steps_per_epoch_val, config, out_scope='Encoding')"
   ]
  },
  {
   "cell_type": "markdown",
   "metadata": {},
   "source": [
    "# Run training"
   ]
  },
  {
   "cell_type": "code",
   "execution_count": null,
   "metadata": {
    "scrolled": true
   },
   "outputs": [
    {
     "name": "stdout",
     "output_type": "stream",
     "text": [
      "Epoch 0\n",
      "Positive samples cache full!\n",
      "Step 0 | Training loss: 0.5204478\n"
     ]
    }
   ],
   "source": [
    "trainer.train()"
   ]
  },
  {
   "cell_type": "code",
   "execution_count": null,
   "metadata": {},
   "outputs": [],
   "source": [
    "import datetime\n",
    "import numpy as np\n",
    "import tensorflow as tf\n",
    "\n",
    "class BaseTrainer():\n",
    "    \"\"\"\n",
    "    class for handling the training procedure\n",
    "    \"\"\"\n",
    "    \n",
    "    def __init__(self, input_dict, output_dict, label_dict, losses_dict, train_gen, val_gen, \n",
    "                 steps_per_epoch_train, steps_per_epoch_val, config_file, out_scope: str='Encoding'):\n",
    "        \"\"\"\n",
    "        initialize trainer\n",
    "        \n",
    "        args:\n",
    "            input_dict: dictionary with graph input nodes\n",
    "            output_dict: dictionary with graph output nodes\n",
    "            label_dict: dictionary with graph label input nodes\n",
    "            losses_dict: dictionary with losses. each key in dict need corresponding key in output_dict and label_dict\n",
    "            train_gen: generator for training data\n",
    "            val_gen: generator for validation data\n",
    "            steps_per_epoch_train: int, number of batches per epoch\n",
    "            steps_per_epoch_val: int, number of steps per loop over validation generator\n",
    "            config_file: config file\n",
    "            out_scope: str, name of scope of desired graph output\n",
    "            \n",
    "        returns:\n",
    "            None\n",
    "        \"\"\"\n",
    "        \n",
    "        self.input_dict = input_dict\n",
    "        self.output_dict = output_dict\n",
    "        self.label_dict = label_dict\n",
    "        self.losses_dict = losses_dict\n",
    "        self.train_gen = train_gen\n",
    "        self.val_gen = val_gen\n",
    "        self.steps_per_epoch_train = steps_per_epoch_train\n",
    "        self.steps_per_epoch_val = steps_per_epoch_val\n",
    "        self.out_scope = out_scope\n",
    "        \n",
    "        self.params = config._sections['TRAINING']\n",
    "    \n",
    "    \n",
    "    def train(self, checkpoint=None):\n",
    "        \"\"\"\n",
    "        Perform training of model\n",
    "        \n",
    "        RESUME TRAINING FROM CHECKPOINT NOT YET IMPLEMENTED!!!!\n",
    "        \"\"\"\n",
    "        \n",
    "        # compute costs and define training optimization operation\n",
    "        costs = [self.losses_dict[key](self.label_dict[key], self.output_dict[key], **self.params) \n",
    "                 for key in self.output_dict.keys()]\n",
    "        cost = tf.reduce_sum(tf.concat(costs, axis=0))\n",
    "        train_ops = tf.train.AdamOptimizer(float(self.params['lr'])).minimize(cost)\n",
    "        \n",
    "        # create summaries for tensorboard\n",
    "        with tf.name_scope('summary'):\n",
    "            train_summary = tf.placeholder(tf.float32, shape=None, name='train_loss_placeholder')\n",
    "            train_loss_summary = tf.summary.scalar('train_loss', train_summary)\n",
    "            val_summary = tf.placeholder(tf.float32,shape=None,name='val_loss_placeholder')\n",
    "            val_loss_summary = tf.summary.scalar('val_loss', val_summary)\n",
    "        loss_summaries = tf.summary.merge([train_loss_summary, val_loss_summary])\n",
    "        \n",
    "        # get name of output node\n",
    "        out_node_name = [op.name for op in tf.get_default_graph().get_operations() \n",
    "                        if self.out_scope in op.name and not 'gradients' in op.name][-1]\n",
    "        \n",
    "        # initialize tf session and saver\n",
    "        sess = tf.Session()\n",
    "        saver = tf.train.Saver()\n",
    "        \n",
    "        # create run folder and initializer summary writer\n",
    "        run_folder = 'runs/' + 'tf13' + str(datetime.datetime.now())\n",
    "        writer = tf.summary.FileWriter(run_folder, sess.graph)\n",
    "        \n",
    "        # if a checkpoint has been parsed restore the session\n",
    "        if checkpoint is not None:\n",
    "            saver.restore(sess, checkpoint)\n",
    "        \n",
    "        # initialize variables\n",
    "        sess.run(tf.global_variables_initializer())\n",
    "        \n",
    "        # start the training\n",
    "        best_val_loss = np.inf\n",
    "        patience_counter = 0\n",
    "        for i in range(int(self.params['epochs'])):\n",
    "            print('Epoch ' + str(i))\n",
    "            \n",
    "            train_loss = []\n",
    "            for j in range(self.steps_per_epoch_train):\n",
    "                \n",
    "                # get batch and run optimization operation\n",
    "                batch = self.train_gen.__next__()\n",
    "                inp = self._build_input(batch)\n",
    "                \n",
    "                # if time for printing, evaluate cost and training optimization operation\n",
    "                # else just evaluate training optimization operation\n",
    "                if j % int(self.params['print_every']) == 0:\n",
    "                    _, current_cost = sess.run([train_ops, cost], inp)\n",
    "                    train_loss.append(current_cost)\n",
    "                    print('Step ' + str(j) + ' | Training loss: ' + str(current_cost))\n",
    "                else:\n",
    "                    sess.run(train_ops, inp)\n",
    "            \n",
    "            # collect validation losses\n",
    "            val_loss = []\n",
    "            for j in range(self.steps_per_epoch_val):\n",
    "                batch = self.val_gen.__next__()\n",
    "                inp = self._build_input(batch)\n",
    "                val_loss.append(sess.run(cost, inp))\n",
    "            \n",
    "            # average training and validation losses, write them to tensorboard and print \n",
    "            val_loss = np.mean(val_loss)\n",
    "            train_loss = np.mean(train_loss)\n",
    "            summ = sess.run(loss_summaries, feed_dict={train_summary: train_loss, val_summary: val_loss})\n",
    "            writer.add_summary(summ, i+1)\n",
    "            writer.flush()\n",
    "            print('Epoch ' + str(i) + ' | Training loss: ' + str(train_loss) + ' | Validation loss: ' + str(val_loss))\n",
    "            \n",
    "            # update best validation loss if improvement and save checkpoint and model\n",
    "            # if no improvement increment patience counter\n",
    "            if val_loss < best_val_loss:\n",
    "                best_val_loss = val_loss\n",
    "                patience_counter = 0\n",
    "                \n",
    "                # save session\n",
    "                saver.save(sess, run_folder + '/class_ckpt', i)\n",
    "                output_graph_def = tf.graph_util.convert_variables_to_constants(\n",
    "                    sess,\n",
    "                    tf.get_default_graph().as_graph_def(),\n",
    "                    [out_node_name]\n",
    "                    )\n",
    "                \n",
    "                # save graph\n",
    "                with tf.gfile.GFile(run_folder + '/best_model.pb', \"wb\") as f:\n",
    "                    f.write(output_graph_def.SerializeToString())\n",
    "            else:\n",
    "                patience_counter += 1\n",
    "                if patience_counter >= int(self.params['patience']):\n",
    "                    print('Training done!')\n",
    "                    break\n",
    "            \n",
    "                    \n",
    "    def _build_input(self, batch):\n",
    "        \"\"\"\n",
    "        builds input for session evaluation from batch\n",
    "        \"\"\"\n",
    "        \n",
    "        inp = {}\n",
    "        for key in self.input_dict.keys():\n",
    "            inp[self.input_dict[key]] = batch[key]\n",
    "        for key in self.label_dict.keys():\n",
    "            inp[self.label_dict[key]] = batch[key]\n",
    "        return inp"
   ]
  },
  {
   "cell_type": "code",
   "execution_count": null,
   "metadata": {},
   "outputs": [],
   "source": []
  }
 ],
 "metadata": {
  "kernelspec": {
   "display_name": "Python 3",
   "language": "python",
   "name": "python3"
  },
  "language_info": {
   "codemirror_mode": {
    "name": "ipython",
    "version": 3
   },
   "file_extension": ".py",
   "mimetype": "text/x-python",
   "name": "python",
   "nbconvert_exporter": "python",
   "pygments_lexer": "ipython3",
   "version": "3.6.7"
  }
 },
 "nbformat": 4,
 "nbformat_minor": 2
}
